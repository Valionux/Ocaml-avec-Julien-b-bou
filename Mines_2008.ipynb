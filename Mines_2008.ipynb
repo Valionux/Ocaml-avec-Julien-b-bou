{
 "cells": [
  {
   "cell_type": "markdown",
   "id": "5721cee6-4516-4429-b33d-4d30f1bbe4fe",
   "metadata": {},
   "source": [
    "Partie 3"
   ]
  },
  {
   "cell_type": "markdown",
   "id": "eb7a77f1-c842-4a24-888a-e2f672685a46",
   "metadata": {},
   "source": [
    "Q19"
   ]
  },
  {
   "cell_type": "code",
   "execution_count": 15,
   "id": "aae26cfa-444e-4617-a6c7-1143e16c15d1",
   "metadata": {},
   "outputs": [
    {
     "data": {
      "text/plain": [
       "val deux_opt : 'a array -> int -> int -> 'a array = <fun>\n"
      ]
     },
     "execution_count": 15,
     "metadata": {},
     "output_type": "execute_result"
    }
   ],
   "source": [
    "let deux_opt t i j =\n",
    "    let i' = i + 1 in\n",
    "    let a1 = Array.sub t i' (j-i+1) in\n",
    "    for k = i' to j do\n",
    "        t.(k) <- a1.(j-k)\n",
    "    done;\n",
    "    t;;"
   ]
  },
  {
   "cell_type": "code",
   "execution_count": 16,
   "id": "6ce39cb1-d601-4b78-9750-f76023bab464",
   "metadata": {},
   "outputs": [
    {
     "data": {
      "text/plain": [
       "- : int array = [|3; 4; 1; 7; 2; 6; 0; 5|]\n"
      ]
     },
     "execution_count": 16,
     "metadata": {},
     "output_type": "execute_result"
    }
   ],
   "source": [
    "deux_opt [|3;4;0;6;2;7;1;5|] 1 6"
   ]
  },
  {
   "cell_type": "markdown",
   "id": "3cf96489-21f8-45c7-a340-940040b3c9f1",
   "metadata": {},
   "source": [
    "Partie 4"
   ]
  },
  {
   "cell_type": "markdown",
   "id": "222912b4-9f5e-487d-a74e-686d300488bc",
   "metadata": {},
   "source": [
    "Q24"
   ]
  }
 ],
 "metadata": {
  "kernelspec": {
   "display_name": "OCaml default",
   "language": "OCaml",
   "name": "ocaml-jupyter"
  },
  "language_info": {
   "codemirror_mode": "text/x-ocaml",
   "file_extension": ".ml",
   "mimetype": "text/x-ocaml",
   "name": "OCaml",
   "nbconverter_exporter": null,
   "pygments_lexer": "OCaml",
   "version": "4.13.1"
  }
 },
 "nbformat": 4,
 "nbformat_minor": 5
}
